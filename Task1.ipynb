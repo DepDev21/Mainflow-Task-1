# Import libraries
import pandas as pd
import numpy as np
import matplotlib.pyplot as plt
import seaborn as sns

sns.set_style('whitegrid')
%matplotlib inline

# Load dataset with correct separator
data = pd.read_csv('student-mat.csv', sep=';')

# Display first few rows
print("First 5 rows of the dataset:")
print(data.head())

# Check for missing values
print("\nMissing values in each column:")
print(data.isnull().sum())

# Display data types
print("\nData types of columns:")
print(data.dtypes)

# Dataset shape
print("\nDataset shape (rows, columns):", data.shape)

# Handle missing values: fill with median if any
for col in data.columns:
    if data[col].isnull().sum() > 0:
        median_val = data[col].median()
        data[col].fillna(median_val, inplace=True)

# Remove duplicates
before = data.shape[0]
data.drop_duplicates(inplace=True)
after = data.shape[0]
print(f"\nRemoved {before - after} duplicate rows.")

# 1. Average score in math (G3)
avg_score = data['G3'].mean()
print(f"\nAverage final grade (G3): {avg_score:.2f}")

# 2. Number of students scoring above 15
above_15 = data[data['G3'] > 15].shape[0]
print(f"Number of students scoring above 15: {above_15}")

# 3. Correlation between study time and final grade
correlation = data['studytime'].corr(data['G3'])
print(f"Correlation between study time and final grade (G3): {correlation:.3f}")

# 4. Gender with higher average final grade
avg_by_gender = data.groupby('sex')['G3'].mean()
print("\nAverage final grade by gender:")
print(avg_by_gender)
higher_gender = avg_by_gender.idxmax()
print(f"{higher_gender} students have higher average final grades.")

# Visualization 1: Histogram of final grades
plt.figure(figsize=(8,5))
plt.hist(data['G3'], bins=15, color='skyblue', edgecolor='black')
plt.title('Histogram of Final Grades (G3)')
plt.xlabel('Final Grade')
plt.ylabel('Number of Students')
plt.show()

# Visualization 2: Scatter plot study time vs final grade
plt.figure(figsize=(8,5))
plt.scatter(data['studytime'], data['G3'], alpha=0.6, color='orange')
plt.title('Study Time vs Final Grade (G3)')
plt.xlabel('Study Time (hours per week)')
plt.ylabel('Final Grade (G3)')
plt.show()

# Visualization 3: Bar chart average scores by gender
avg_gender = data.groupby('sex')['G3'].mean().reset_index()
plt.figure(figsize=(6,5))
sns.barplot(x='sex', y='G3', data=avg_gender, palette='pastel')
plt.title('Average Final Grade (G3) by Gender')
plt.xlabel('Gender')
plt.ylabel('Average Final Grade')
plt.show()